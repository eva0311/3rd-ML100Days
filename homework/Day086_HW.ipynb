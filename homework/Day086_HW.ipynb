{
 "cells": [
  {
   "cell_type": "markdown",
   "metadata": {},
   "source": [
    "## Work\n",
    "1. 試比較 save_best_only 與否的差異\n",
    "2. 請僅存入將 save_weights_only 設定為 True, 並嘗試 reset ipynb 並將模型與權重重新建回並預測 x_test"
   ]
  },
  {
   "cell_type": "code",
   "execution_count": 1,
   "metadata": {},
   "outputs": [
    {
     "name": "stderr",
     "output_type": "stream",
     "text": [
      "Using TensorFlow backend.\n"
     ]
    }
   ],
   "source": [
    "import os\n",
    "import keras\n",
    "\n",
    "# Disable GPU\n",
    "os.environ[\"CUDA_VISIBLE_DEVICES\"] = \"\""
   ]
  },
  {
   "cell_type": "code",
   "execution_count": 2,
   "metadata": {},
   "outputs": [],
   "source": [
    "train, test = keras.datasets.cifar10.load_data()"
   ]
  },
  {
   "cell_type": "code",
   "execution_count": 3,
   "metadata": {},
   "outputs": [],
   "source": [
    "## 資料前處理\n",
    "def preproc_x(x, flatten=True):\n",
    "    x = x / 255.\n",
    "    if flatten:\n",
    "        x = x.reshape((len(x), -1))\n",
    "    return x\n",
    "\n",
    "def preproc_y(y, num_classes=10):\n",
    "    if y.shape[-1] == 1:\n",
    "        y = keras.utils.to_categorical(y, num_classes)\n",
    "    return y    "
   ]
  },
  {
   "cell_type": "code",
   "execution_count": 4,
   "metadata": {},
   "outputs": [],
   "source": [
    "x_train, y_train = train\n",
    "x_test, y_test = test\n",
    "\n",
    "# Preproc the inputs\n",
    "x_train = preproc_x(x_train)\n",
    "x_test = preproc_x(x_test)\n",
    "\n",
    "# Preprc the outputs\n",
    "y_train = preproc_y(y_train)\n",
    "y_test = preproc_y(y_test)"
   ]
  },
  {
   "cell_type": "code",
   "execution_count": 5,
   "metadata": {},
   "outputs": [],
   "source": [
    "from keras.layers import BatchNormalization\n",
    "def build_mlp(input_shape, output_units=10, num_neurons=[512, 256, 128]):\n",
    "    \"\"\"Code Here\n",
    "    建立你的神經網路\n",
    "    \"\"\"\n",
    "    \"\"\"\n",
    "    建立神經網路，並加入 BN layer\n",
    "    \"\"\"\n",
    "\n",
    "    input_layer = keras.layers.Input(input_shape)\n",
    "    \n",
    "    for i, n_units in enumerate(num_neurons):\n",
    "        if i == 0:\n",
    "            x = keras.layers.Dense(units=n_units, \n",
    "                                   activation=\"relu\", \n",
    "                                   name=\"hidden_layer\"+str(i+1))(input_layer)\n",
    "            x = BatchNormalization()(x)\n",
    "        else:\n",
    "            x = keras.layers.Dense(units=n_units, \n",
    "                                   activation=\"relu\", \n",
    "                                   name=\"hidden_layer\"+str(i+1))(x)\n",
    "            x = BatchNormalization()(x)\n",
    "    \n",
    "    out = keras.layers.Dense(units=output_units, activation=\"softmax\", name=\"output\")(x)\n",
    "    \n",
    "    model = keras.models.Model(inputs=[input_layer], outputs=[out])\n",
    "    return model"
   ]
  },
  {
   "cell_type": "code",
   "execution_count": 6,
   "metadata": {},
   "outputs": [],
   "source": [
    "\"\"\"Code Here\n",
    "設定超參數\n",
    "\"\"\"\n",
    "LEARNING_RATE = 1e-3\n",
    "EPOCHS = 50\n",
    "BATCH_SIZE = 1024\n",
    "MOMENTUM = 0.95"
   ]
  },
  {
   "cell_type": "code",
   "execution_count": 7,
   "metadata": {},
   "outputs": [
    {
     "name": "stdout",
     "output_type": "stream",
     "text": [
      "Model: \"model_1\"\n",
      "_________________________________________________________________\n",
      "Layer (type)                 Output Shape              Param #   \n",
      "=================================================================\n",
      "input_1 (InputLayer)         (None, 3072)              0         \n",
      "_________________________________________________________________\n",
      "hidden_layer1 (Dense)        (None, 512)               1573376   \n",
      "_________________________________________________________________\n",
      "batch_normalization_1 (Batch (None, 512)               2048      \n",
      "_________________________________________________________________\n",
      "hidden_layer2 (Dense)        (None, 256)               131328    \n",
      "_________________________________________________________________\n",
      "batch_normalization_2 (Batch (None, 256)               1024      \n",
      "_________________________________________________________________\n",
      "hidden_layer3 (Dense)        (None, 128)               32896     \n",
      "_________________________________________________________________\n",
      "batch_normalization_3 (Batch (None, 128)               512       \n",
      "_________________________________________________________________\n",
      "output (Dense)               (None, 10)                1290      \n",
      "=================================================================\n",
      "Total params: 1,742,474\n",
      "Trainable params: 1,740,682\n",
      "Non-trainable params: 1,792\n",
      "_________________________________________________________________\n",
      "Train on 50000 samples, validate on 10000 samples\n",
      "Epoch 1/50\n",
      "50000/50000 [==============================] - 714s 14ms/step - loss: 2.1983 - accuracy: 0.2690 - val_loss: 2.1754 - val_accuracy: 0.1412\n",
      "Epoch 2/50\n",
      "50000/50000 [==============================] - 160s 3ms/step - loss: 1.7319 - accuracy: 0.3946 - val_loss: 1.9951 - val_accuracy: 0.2541\n",
      "Epoch 3/50\n",
      "50000/50000 [==============================] - 11s 218us/step - loss: 1.6108 - accuracy: 0.4339 - val_loss: 1.8542 - val_accuracy: 0.3333\n",
      "Epoch 4/50\n",
      "50000/50000 [==============================] - 11s 218us/step - loss: 1.5377 - accuracy: 0.4632 - val_loss: 1.7224 - val_accuracy: 0.3957\n",
      "Epoch 5/50\n",
      "50000/50000 [==============================] - 11s 225us/step - loss: 1.4869 - accuracy: 0.4782 - val_loss: 1.6324 - val_accuracy: 0.4335\n",
      "Epoch 6/50\n",
      "50000/50000 [==============================] - 11s 212us/step - loss: 1.4407 - accuracy: 0.4981 - val_loss: 1.5816 - val_accuracy: 0.4446\n",
      "Epoch 7/50\n",
      "50000/50000 [==============================] - 11s 212us/step - loss: 1.4027 - accuracy: 0.5106 - val_loss: 1.5413 - val_accuracy: 0.4636\n",
      "Epoch 8/50\n",
      "50000/50000 [==============================] - 11s 223us/step - loss: 1.3686 - accuracy: 0.5221 - val_loss: 1.5310 - val_accuracy: 0.4597\n",
      "Epoch 9/50\n",
      "50000/50000 [==============================] - 11s 212us/step - loss: 1.3360 - accuracy: 0.5348 - val_loss: 1.5136 - val_accuracy: 0.4659\n",
      "Epoch 10/50\n",
      "50000/50000 [==============================] - 11s 219us/step - loss: 1.3057 - accuracy: 0.5459 - val_loss: 1.4922 - val_accuracy: 0.4724\n",
      "Epoch 11/50\n",
      "50000/50000 [==============================] - 11s 212us/step - loss: 1.2775 - accuracy: 0.5577 - val_loss: 1.4796 - val_accuracy: 0.4797\n",
      "Epoch 12/50\n",
      "50000/50000 [==============================] - 11s 211us/step - loss: 1.2515 - accuracy: 0.5651 - val_loss: 1.4763 - val_accuracy: 0.4837\n",
      "Epoch 13/50\n",
      "50000/50000 [==============================] - 11s 214us/step - loss: 1.2243 - accuracy: 0.5756 - val_loss: 1.4653 - val_accuracy: 0.4849\n",
      "Epoch 14/50\n",
      "50000/50000 [==============================] - 11s 213us/step - loss: 1.2002 - accuracy: 0.5840 - val_loss: 1.4674 - val_accuracy: 0.4846\n",
      "Epoch 15/50\n",
      "50000/50000 [==============================] - 11s 217us/step - loss: 1.1755 - accuracy: 0.5940 - val_loss: 1.4535 - val_accuracy: 0.4928\n",
      "Epoch 16/50\n",
      "50000/50000 [==============================] - 11s 228us/step - loss: 1.1520 - accuracy: 0.6023 - val_loss: 1.4555 - val_accuracy: 0.4910\n",
      "Epoch 17/50\n",
      "50000/50000 [==============================] - 11s 223us/step - loss: 1.1290 - accuracy: 0.6096 - val_loss: 1.4623 - val_accuracy: 0.4868\n",
      "Epoch 18/50\n",
      "50000/50000 [==============================] - 11s 223us/step - loss: 1.1064 - accuracy: 0.6190 - val_loss: 1.4644 - val_accuracy: 0.4878\n",
      "Epoch 19/50\n",
      "50000/50000 [==============================] - 11s 215us/step - loss: 1.0858 - accuracy: 0.6267 - val_loss: 1.4645 - val_accuracy: 0.4870\n",
      "Epoch 20/50\n",
      "50000/50000 [==============================] - 11s 224us/step - loss: 1.0622 - accuracy: 0.6364 - val_loss: 1.4508 - val_accuracy: 0.4953\n",
      "Epoch 21/50\n",
      "50000/50000 [==============================] - 11s 215us/step - loss: 1.0411 - accuracy: 0.6437 - val_loss: 1.4622 - val_accuracy: 0.4923\n",
      "Epoch 22/50\n",
      "50000/50000 [==============================] - 10s 205us/step - loss: 1.0214 - accuracy: 0.6520 - val_loss: 1.4694 - val_accuracy: 0.4919\n",
      "Epoch 23/50\n",
      "50000/50000 [==============================] - 10s 206us/step - loss: 1.0007 - accuracy: 0.6600 - val_loss: 1.4578 - val_accuracy: 0.4925\n",
      "Epoch 24/50\n",
      "50000/50000 [==============================] - 11s 226us/step - loss: 0.9784 - accuracy: 0.6694 - val_loss: 1.4624 - val_accuracy: 0.4936\n",
      "Epoch 25/50\n",
      "50000/50000 [==============================] - 12s 239us/step - loss: 0.9585 - accuracy: 0.6762 - val_loss: 1.4496 - val_accuracy: 0.4971\n",
      "Epoch 26/50\n",
      "50000/50000 [==============================] - 13s 251us/step - loss: 0.9387 - accuracy: 0.6842 - val_loss: 1.4857 - val_accuracy: 0.4919\n",
      "Epoch 27/50\n",
      "50000/50000 [==============================] - 11s 228us/step - loss: 0.9172 - accuracy: 0.6940 - val_loss: 1.4685 - val_accuracy: 0.4968\n",
      "Epoch 28/50\n",
      "50000/50000 [==============================] - 12s 245us/step - loss: 0.8968 - accuracy: 0.6980 - val_loss: 1.4686 - val_accuracy: 0.4949\n",
      "Epoch 29/50\n",
      "50000/50000 [==============================] - 13s 250us/step - loss: 0.8774 - accuracy: 0.7090 - val_loss: 1.4803 - val_accuracy: 0.4924\n",
      "Epoch 30/50\n",
      "50000/50000 [==============================] - 12s 248us/step - loss: 0.8583 - accuracy: 0.7170 - val_loss: 1.4834 - val_accuracy: 0.4938\n",
      "Epoch 31/50\n",
      "50000/50000 [==============================] - 13s 256us/step - loss: 0.8384 - accuracy: 0.7253 - val_loss: 1.4822 - val_accuracy: 0.4980\n",
      "Epoch 32/50\n",
      "50000/50000 [==============================] - 13s 250us/step - loss: 0.8181 - accuracy: 0.7324 - val_loss: 1.5024 - val_accuracy: 0.4951\n",
      "Epoch 33/50\n",
      "50000/50000 [==============================] - 12s 248us/step - loss: 0.8013 - accuracy: 0.7404 - val_loss: 1.4963 - val_accuracy: 0.4998\n",
      "Epoch 34/50\n",
      "50000/50000 [==============================] - 11s 229us/step - loss: 0.7802 - accuracy: 0.7480 - val_loss: 1.5081 - val_accuracy: 0.4927\n",
      "Epoch 35/50\n",
      "50000/50000 [==============================] - 12s 247us/step - loss: 0.7614 - accuracy: 0.7534 - val_loss: 1.5066 - val_accuracy: 0.4986\n",
      "Epoch 36/50\n",
      "50000/50000 [==============================] - 12s 233us/step - loss: 0.7421 - accuracy: 0.7643 - val_loss: 1.5191 - val_accuracy: 0.4981\n",
      "Epoch 37/50\n",
      "50000/50000 [==============================] - 12s 244us/step - loss: 0.7226 - accuracy: 0.7709 - val_loss: 1.5287 - val_accuracy: 0.4904\n",
      "Epoch 38/50\n",
      "50000/50000 [==============================] - 12s 234us/step - loss: 0.7076 - accuracy: 0.7769 - val_loss: 1.5384 - val_accuracy: 0.4986\n",
      "Epoch 39/50\n",
      "50000/50000 [==============================] - 12s 241us/step - loss: 0.6862 - accuracy: 0.7871 - val_loss: 1.5422 - val_accuracy: 0.4962\n",
      "Epoch 40/50\n",
      "50000/50000 [==============================] - 12s 239us/step - loss: 0.6691 - accuracy: 0.7911 - val_loss: 1.5626 - val_accuracy: 0.4923\n",
      "Epoch 41/50\n",
      "50000/50000 [==============================] - 12s 249us/step - loss: 0.6508 - accuracy: 0.7990 - val_loss: 1.5562 - val_accuracy: 0.4930\n",
      "Epoch 42/50\n",
      "50000/50000 [==============================] - 12s 241us/step - loss: 0.6334 - accuracy: 0.8062 - val_loss: 1.5953 - val_accuracy: 0.4888\n",
      "Epoch 43/50\n",
      "50000/50000 [==============================] - 12s 231us/step - loss: 0.6154 - accuracy: 0.8140 - val_loss: 1.5761 - val_accuracy: 0.4975\n",
      "Epoch 44/50\n",
      "50000/50000 [==============================] - 12s 236us/step - loss: 0.5980 - accuracy: 0.8204 - val_loss: 1.6042 - val_accuracy: 0.4872\n",
      "Epoch 45/50\n",
      "50000/50000 [==============================] - 11s 228us/step - loss: 0.5803 - accuracy: 0.8279 - val_loss: 1.5992 - val_accuracy: 0.4941\n"
     ]
    },
    {
     "name": "stdout",
     "output_type": "stream",
     "text": [
      "Epoch 46/50\n",
      "50000/50000 [==============================] - 11s 230us/step - loss: 0.5624 - accuracy: 0.8342 - val_loss: 1.6005 - val_accuracy: 0.4940\n",
      "Epoch 47/50\n",
      "50000/50000 [==============================] - 11s 226us/step - loss: 0.5454 - accuracy: 0.8418 - val_loss: 1.6207 - val_accuracy: 0.4912\n",
      "Epoch 48/50\n",
      "50000/50000 [==============================] - 11s 215us/step - loss: 0.5285 - accuracy: 0.8479 - val_loss: 1.6317 - val_accuracy: 0.4910\n",
      "Epoch 49/50\n",
      "50000/50000 [==============================] - 10s 205us/step - loss: 0.5127 - accuracy: 0.8550 - val_loss: 1.6455 - val_accuracy: 0.4898\n",
      "Epoch 50/50\n",
      "50000/50000 [==============================] - 10s 209us/step - loss: 0.4960 - accuracy: 0.8613 - val_loss: 1.6503 - val_accuracy: 0.4925\n",
      "10000/10000 [==============================] - 7s 744us/step\n"
     ]
    }
   ],
   "source": [
    "# 載入 Callbacks\n",
    "\"\"\"Code Here\n",
    "設定 callbacks: model checkpoint\n",
    "\"\"\"\n",
    "from keras.callbacks import ModelCheckpoint\n",
    "\n",
    "model_ckpt = ModelCheckpoint(filepath=\"./tmp.h5\", \n",
    "                             monitor=\"val_loss\", \n",
    "                             save_best_only=True)\n",
    "\n",
    "\n",
    "results = {}\n",
    "\"\"\"Code Here\n",
    "撰寫你的訓練流程並將結果用 dictionary 紀錄\n",
    "\"\"\"\n",
    "model = build_mlp(input_shape=x_train.shape[1:])\n",
    "model.summary()\n",
    "optimizer = keras.optimizers.SGD(lr=LEARNING_RATE, nesterov=True, momentum=MOMENTUM)\n",
    "model.compile(loss=\"categorical_crossentropy\", metrics=[\"accuracy\"], optimizer=optimizer)\n",
    "\n",
    "model.fit(x_train, y_train, \n",
    "          epochs=EPOCHS, \n",
    "          batch_size=BATCH_SIZE, \n",
    "          validation_data=(x_test, y_test), \n",
    "          shuffle=True,\n",
    "          callbacks=[model_ckpt]\n",
    "         )\n",
    "\n",
    "# Collect results\n",
    "train_loss = model.history.history[\"loss\"]\n",
    "valid_loss = model.history.history[\"val_loss\"]\n",
    "train_acc = model.history.history[\"accuracy\"]\n",
    "valid_acc = model.history.history[\"val_accuracy\"]\n",
    "\n",
    "# Load back\n",
    "model = keras.models.load_model(\"./tmp.h5\")\n",
    "loss_loadback, acc_loadback = model.evaluate(x_test, y_test)"
   ]
  },
  {
   "cell_type": "code",
   "execution_count": 8,
   "metadata": {
    "scrolled": true
   },
   "outputs": [
    {
     "data": {
      "image/png": "[encoded data removed]",
      "text/plain": [
       "<Figure size 432x288 with 1 Axes>"
      ]
     },
     "metadata": {
      "needs_background": "light"
     },
     "output_type": "display_data"
    },
    {
     "data": {
      "image/png": "[encoded data removed]",
      "text/plain": [
       "<Figure size 432x288 with 1 Axes>"
      ]
     },
     "metadata": {
      "needs_background": "light"
     },
     "output_type": "display_data"
    }
   ],
   "source": [
    "import matplotlib.pyplot as plt\n",
    "%matplotlib inline\n",
    "\"\"\"Code Here\n",
    "將結果繪出\n",
    "\"\"\"\n",
    "plt.plot(range(len(train_loss)), train_loss, label=\"train loss\")\n",
    "plt.plot(range(len(valid_loss)), valid_loss, label=\"valid loss\")\n",
    "plt.hlines(y=loss_loadback, xmin=0, xmax=len(train_loss), colors='r', linestyles='--')\n",
    "plt.legend()\n",
    "plt.title(\"Loss\")\n",
    "plt.show()\n",
    "\n",
    "plt.plot(range(len(train_acc)), train_acc, label=\"train accuracy\")\n",
    "plt.plot(range(len(valid_acc)), valid_acc, label=\"valid accuracy\")\n",
    "plt.hlines(y=acc_loadback, xmin=0, xmax=len(train_loss), colors='r', linestyles='--')\n",
    "plt.legend()\n",
    "plt.title(\"Accuracy\")\n",
    "plt.show()"
   ]
  },
  {
   "cell_type": "code",
   "execution_count": null,
   "metadata": {},
   "outputs": [],
   "source": []
  }
 ],
 "metadata": {
  "kernelspec": {
   "display_name": "tensor_flow",
   "language": "python",
   "name": "tensor_flow"
  },
  "language_info": {
   "codemirror_mode": {
    "name": "ipython",
    "version": 3
   },
   "file_extension": ".py",
   "mimetype": "text/x-python",
   "name": "python",
   "nbconvert_exporter": "python",
   "pygments_lexer": "ipython3",
   "version": "3.7.6"
  }
 },
 "nbformat": 4,
 "nbformat_minor": 2
}
