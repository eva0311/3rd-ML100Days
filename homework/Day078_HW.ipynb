{
 "cells": [
  {
   "cell_type": "markdown",
   "metadata": {},
   "source": [
    "## Work\n",
    "1. 請嘗試將 preproc_x 替換成以每筆資料的 min/max 進行標準化至 -1 ~ 1 間，再進行訓練\n",
    "2. 請嘗試將 mlp 疊更深 (e.g 5~10 層)，進行訓練後觀察 learning curve 的走勢\n",
    "3. (optional) 請改用 GPU 進行訓練 (如果你有 GPU 的話)，比較使用 CPU 與 GPU 的訓練速度"
   ]
  },
  {
   "cell_type": "code",
   "execution_count": 1,
   "metadata": {},
   "outputs": [
    {
     "name": "stderr",
     "output_type": "stream",
     "text": [
      "'nvidia-smi' 不是內部或外部命令、可執行的程式或批次檔。\n"
     ]
    }
   ],
   "source": [
    "## \n",
    "\"\"\"\n",
    "Your code here (optional)\n",
    "確認硬體資源\n",
    "\"\"\"\n",
    "## 確認硬體資源 (如果你是在 Linux, 若是在 Windows, 請參考 https://blog.csdn.net/idwtwt/article/details/78017565)\n",
    "!nvidia-smi"
   ]
  },
  {
   "cell_type": "code",
   "execution_count": 2,
   "metadata": {},
   "outputs": [
    {
     "name": "stderr",
     "output_type": "stream",
     "text": [
      "Using TensorFlow backend.\n"
     ]
    }
   ],
   "source": [
    "import os\n",
    "import keras\n",
    "\n",
    "# 請嘗試設定 GPU：os.environ\n",
    "# 本範例不需使用 GPU, 將 GPU 設定為 \"無\"\n",
    "os.environ[\"CUDA_VISIBLE_DEVICES\"] = \"\"\n"
   ]
  },
  {
   "cell_type": "code",
   "execution_count": 3,
   "metadata": {},
   "outputs": [],
   "source": [
    "train, test = keras.datasets.cifar10.load_data()"
   ]
  },
  {
   "cell_type": "code",
   "execution_count": 4,
   "metadata": {},
   "outputs": [],
   "source": [
    "## 資料前處理\n",
    "\"\"\"\n",
    "Your code here\n",
    "\"\"\"\n",
    "from sklearn.preprocessing import MinMaxScaler\n",
    "\n",
    "def preproc_x(x, flatten=True):\n",
    "    if flatten:\n",
    "        x = x.reshape((len(x), -1))\n",
    "    scaler = MinMaxScaler(feature_range=(-1, 1))\n",
    "    scaler.fit(x)\n",
    "    x = scaler.transform(x)\n",
    "    return x\n",
    "\n",
    "\n",
    "def preproc_y(y, num_classes=10):\n",
    "    if y.shape[-1] == 1:\n",
    "        y = keras.utils.to_categorical(y, num_classes)\n",
    "    return y"
   ]
  },
  {
   "cell_type": "code",
   "execution_count": 5,
   "metadata": {},
   "outputs": [],
   "source": [
    "x_train, y_train = train\n",
    "x_test, y_test = test\n",
    "\n",
    "# Preproc the inputs\n",
    "x_train = preproc_x(x_train)\n",
    "x_test = preproc_x(x_test)\n",
    "\n",
    "# Preprc the outputs\n",
    "y_train = preproc_y(y_train)\n",
    "y_test = preproc_y(y_test)"
   ]
  },
  {
   "cell_type": "code",
   "execution_count": 10,
   "metadata": {
    "scrolled": false
   },
   "outputs": [],
   "source": [
    "\"\"\"Code Here\n",
    "建立你的神經網路\n",
    "\"\"\"\n",
    "def build_mlp(input_shape, output_units=10, num_neurons=[512, 256, 128,256,512]):\n",
    "    input_layer = keras.layers.Input(input_shape)\n",
    "    \n",
    "    for i, n_units in enumerate(num_neurons):\n",
    "        if i == 0:\n",
    "            x = keras.layers.Dense(units=n_units, activation=\"relu\", name=\"hidden_layer\"+str(i+1))(input_layer)\n",
    "        else:\n",
    "            x = keras.layers.Dense(units=n_units, activation=\"relu\", name=\"hidden_layer\"+str(i+1))(x)\n",
    "    \n",
    "    out = keras.layers.Dense(units=output_units, activation=\"softmax\", name=\"output\")(x)\n",
    "    \n",
    "    model = keras.models.Model(inputs=[input_layer], outputs=[out])\n",
    "    return model"
   ]
  },
  {
   "cell_type": "code",
   "execution_count": 11,
   "metadata": {},
   "outputs": [
    {
     "name": "stdout",
     "output_type": "stream",
     "text": [
      "Model: \"model_1\"\n",
      "_________________________________________________________________\n",
      "Layer (type)                 Output Shape              Param #   \n",
      "=================================================================\n",
      "input_1 (InputLayer)         (None, 3072)              0         \n",
      "_________________________________________________________________\n",
      "hidden_layer1 (Dense)        (None, 512)               1573376   \n",
      "_________________________________________________________________\n",
      "hidden_layer2 (Dense)        (None, 256)               131328    \n",
      "_________________________________________________________________\n",
      "hidden_layer3 (Dense)        (None, 128)               32896     \n",
      "_________________________________________________________________\n",
      "hidden_layer4 (Dense)        (None, 256)               33024     \n",
      "_________________________________________________________________\n",
      "hidden_layer5 (Dense)        (None, 512)               131584    \n",
      "_________________________________________________________________\n",
      "output (Dense)               (None, 10)                5130      \n",
      "=================================================================\n",
      "Total params: 1,907,338\n",
      "Trainable params: 1,907,338\n",
      "Non-trainable params: 0\n",
      "_________________________________________________________________\n"
     ]
    }
   ],
   "source": [
    "model = build_mlp(input_shape=x_train.shape[1:])\n",
    "model.summary()"
   ]
  },
  {
   "cell_type": "code",
   "execution_count": 12,
   "metadata": {},
   "outputs": [],
   "source": [
    "## 超參數設定\n",
    "LEARNING_RATE = 0.001\n",
    "EPOCHS = 100\n",
    "BATCH_SIZE = 256"
   ]
  },
  {
   "cell_type": "code",
   "execution_count": 13,
   "metadata": {},
   "outputs": [],
   "source": [
    "optimizer = keras.optimizers.Adam(lr=LEARNING_RATE)\n",
    "model.compile(loss=\"categorical_crossentropy\", metrics=[\"accuracy\"], optimizer=optimizer)"
   ]
  },
  {
   "cell_type": "code",
   "execution_count": 14,
   "metadata": {},
   "outputs": [
    {
     "name": "stdout",
     "output_type": "stream",
     "text": [
      "Train on 50000 samples, validate on 10000 samples\n",
      "Epoch 1/100\n",
      "  512/50000 [..............................] - ETA: 18:49 - loss: 2.3094 - accuracy: 0.1016"
     ]
    },
    {
     "name": "stderr",
     "output_type": "stream",
     "text": [
      "C:\\Users\\admin\\Anaconda3\\envs\\tensor_flow\\lib\\site-packages\\keras\\callbacks\\callbacks.py:95: RuntimeWarning: Method (on_train_batch_end) is slow compared to the batch update (0.188063). Check your callbacks.\n",
      "  % (hook_name, delta_t_median), RuntimeWarning)\n"
     ]
    },
    {
     "name": "stdout",
     "output_type": "stream",
     "text": [
      "50000/50000 [==============================] - 432s 9ms/step - loss: 1.6838 - accuracy: 0.4022 - val_loss: 1.5217 - val_accuracy: 0.4657\n",
      "Epoch 2/100\n",
      "50000/50000 [==============================] - 22s 441us/step - loss: 1.4534 - accuracy: 0.4851 - val_loss: 1.4475 - val_accuracy: 0.4884\n",
      "Epoch 3/100\n",
      "50000/50000 [==============================] - 19s 375us/step - loss: 1.3394 - accuracy: 0.5262 - val_loss: 1.4286 - val_accuracy: 0.4950\n",
      "Epoch 4/100\n",
      "50000/50000 [==============================] - 19s 390us/step - loss: 1.2446 - accuracy: 0.5586 - val_loss: 1.3889 - val_accuracy: 0.5117\n",
      "Epoch 5/100\n",
      "50000/50000 [==============================] - 18s 369us/step - loss: 1.1605 - accuracy: 0.5888 - val_loss: 1.3855 - val_accuracy: 0.5177\n",
      "Epoch 6/100\n",
      "50000/50000 [==============================] - 18s 357us/step - loss: 1.0851 - accuracy: 0.6160 - val_loss: 1.3604 - val_accuracy: 0.5325\n",
      "Epoch 7/100\n",
      "50000/50000 [==============================] - 18s 368us/step - loss: 1.0047 - accuracy: 0.6416 - val_loss: 1.3724 - val_accuracy: 0.5324\n",
      "Epoch 8/100\n",
      "50000/50000 [==============================] - 18s 364us/step - loss: 0.9297 - accuracy: 0.6683 - val_loss: 1.4055 - val_accuracy: 0.5380\n",
      "Epoch 9/100\n",
      "50000/50000 [==============================] - 18s 367us/step - loss: 0.8613 - accuracy: 0.6935 - val_loss: 1.4266 - val_accuracy: 0.5362\n",
      "Epoch 10/100\n",
      "50000/50000 [==============================] - 18s 364us/step - loss: 0.7976 - accuracy: 0.7154 - val_loss: 1.4987 - val_accuracy: 0.5366\n",
      "Epoch 11/100\n",
      "50000/50000 [==============================] - 18s 358us/step - loss: 0.7355 - accuracy: 0.7369 - val_loss: 1.5523 - val_accuracy: 0.5320\n",
      "Epoch 12/100\n",
      "50000/50000 [==============================] - 17s 349us/step - loss: 0.6682 - accuracy: 0.7593 - val_loss: 1.5693 - val_accuracy: 0.5306\n",
      "Epoch 13/100\n",
      "50000/50000 [==============================] - 18s 352us/step - loss: 0.6170 - accuracy: 0.7794 - val_loss: 1.6383 - val_accuracy: 0.5321\n",
      "Epoch 14/100\n",
      "50000/50000 [==============================] - 17s 342us/step - loss: 0.5660 - accuracy: 0.7990 - val_loss: 1.7930 - val_accuracy: 0.5334\n",
      "Epoch 15/100\n",
      "50000/50000 [==============================] - 17s 349us/step - loss: 0.5227 - accuracy: 0.8127 - val_loss: 1.8298 - val_accuracy: 0.5219\n",
      "Epoch 16/100\n",
      "50000/50000 [==============================] - 18s 355us/step - loss: 0.4658 - accuracy: 0.8355 - val_loss: 1.9978 - val_accuracy: 0.5232\n",
      "Epoch 17/100\n",
      "50000/50000 [==============================] - 17s 337us/step - loss: 0.4385 - accuracy: 0.8435 - val_loss: 2.0272 - val_accuracy: 0.5223\n",
      "Epoch 18/100\n",
      "50000/50000 [==============================] - 17s 339us/step - loss: 0.3896 - accuracy: 0.8616 - val_loss: 2.2313 - val_accuracy: 0.5295\n",
      "Epoch 19/100\n",
      "50000/50000 [==============================] - 18s 352us/step - loss: 0.3678 - accuracy: 0.8694 - val_loss: 2.2745 - val_accuracy: 0.5257\n",
      "Epoch 20/100\n",
      "50000/50000 [==============================] - 19s 377us/step - loss: 0.3433 - accuracy: 0.8768 - val_loss: 2.3057 - val_accuracy: 0.5258\n",
      "Epoch 21/100\n",
      "50000/50000 [==============================] - 18s 356us/step - loss: 0.3203 - accuracy: 0.8861 - val_loss: 2.3341 - val_accuracy: 0.5289\n",
      "Epoch 22/100\n",
      "50000/50000 [==============================] - 18s 357us/step - loss: 0.2945 - accuracy: 0.8972 - val_loss: 2.4649 - val_accuracy: 0.5238\n",
      "Epoch 23/100\n",
      "50000/50000 [==============================] - 17s 346us/step - loss: 0.2798 - accuracy: 0.9015 - val_loss: 2.6137 - val_accuracy: 0.5231\n",
      "Epoch 24/100\n",
      "50000/50000 [==============================] - 17s 347us/step - loss: 0.2693 - accuracy: 0.9049 - val_loss: 2.6613 - val_accuracy: 0.5251\n",
      "Epoch 25/100\n",
      "50000/50000 [==============================] - 17s 348us/step - loss: 0.2441 - accuracy: 0.9146 - val_loss: 2.7407 - val_accuracy: 0.5286\n",
      "Epoch 26/100\n",
      "50000/50000 [==============================] - 17s 347us/step - loss: 0.2373 - accuracy: 0.9171 - val_loss: 2.7953 - val_accuracy: 0.5311\n",
      "Epoch 27/100\n",
      "50000/50000 [==============================] - 17s 346us/step - loss: 0.2192 - accuracy: 0.9243 - val_loss: 2.9969 - val_accuracy: 0.5211\n",
      "Epoch 28/100\n",
      "50000/50000 [==============================] - 18s 370us/step - loss: 0.2176 - accuracy: 0.9242 - val_loss: 3.0216 - val_accuracy: 0.5186\n",
      "Epoch 29/100\n",
      "50000/50000 [==============================] - 18s 366us/step - loss: 0.2103 - accuracy: 0.9269 - val_loss: 3.1206 - val_accuracy: 0.5188\n",
      "Epoch 30/100\n",
      "50000/50000 [==============================] - 18s 365us/step - loss: 0.1934 - accuracy: 0.9342 - val_loss: 3.2091 - val_accuracy: 0.5141\n",
      "Epoch 31/100\n",
      "50000/50000 [==============================] - 19s 380us/step - loss: 0.1866 - accuracy: 0.9344 - val_loss: 3.0821 - val_accuracy: 0.5240\n",
      "Epoch 32/100\n",
      "50000/50000 [==============================] - 18s 364us/step - loss: 0.1801 - accuracy: 0.9387 - val_loss: 3.1931 - val_accuracy: 0.5134\n",
      "Epoch 33/100\n",
      "50000/50000 [==============================] - 20s 391us/step - loss: 0.1887 - accuracy: 0.9354 - val_loss: 3.1209 - val_accuracy: 0.5145\n",
      "Epoch 34/100\n",
      "50000/50000 [==============================] - 19s 375us/step - loss: 0.1733 - accuracy: 0.9401 - val_loss: 3.2022 - val_accuracy: 0.5297\n",
      "Epoch 35/100\n",
      "50000/50000 [==============================] - 18s 352us/step - loss: 0.1585 - accuracy: 0.9460 - val_loss: 3.2062 - val_accuracy: 0.5211\n",
      "Epoch 36/100\n",
      "50000/50000 [==============================] - 18s 358us/step - loss: 0.1635 - accuracy: 0.9449 - val_loss: 3.1526 - val_accuracy: 0.5205\n",
      "Epoch 37/100\n",
      "50000/50000 [==============================] - 17s 348us/step - loss: 0.1560 - accuracy: 0.9479 - val_loss: 3.3937 - val_accuracy: 0.5267\n",
      "Epoch 38/100\n",
      "50000/50000 [==============================] - 17s 349us/step - loss: 0.1453 - accuracy: 0.9507 - val_loss: 3.4550 - val_accuracy: 0.5204\n",
      "Epoch 39/100\n",
      "50000/50000 [==============================] - 19s 370us/step - loss: 0.1614 - accuracy: 0.9469 - val_loss: 3.5295 - val_accuracy: 0.5219\n",
      "Epoch 40/100\n",
      "50000/50000 [==============================] - 18s 357us/step - loss: 0.1370 - accuracy: 0.9542 - val_loss: 3.5144 - val_accuracy: 0.5219\n",
      "Epoch 41/100\n",
      "50000/50000 [==============================] - 19s 372us/step - loss: 0.1447 - accuracy: 0.9513 - val_loss: 3.6194 - val_accuracy: 0.5247\n",
      "Epoch 42/100\n",
      "50000/50000 [==============================] - 20s 409us/step - loss: 0.1426 - accuracy: 0.9514 - val_loss: 3.8347 - val_accuracy: 0.5208\n",
      "Epoch 43/100\n",
      "50000/50000 [==============================] - 21s 424us/step - loss: 0.1489 - accuracy: 0.9511 - val_loss: 3.6025 - val_accuracy: 0.5187\n",
      "Epoch 44/100\n",
      "50000/50000 [==============================] - 20s 408us/step - loss: 0.1361 - accuracy: 0.9550 - val_loss: 3.8065 - val_accuracy: 0.5279\n",
      "Epoch 45/100\n",
      "50000/50000 [==============================] - 21s 420us/step - loss: 0.1262 - accuracy: 0.9574 - val_loss: 3.7569 - val_accuracy: 0.5242\n",
      "Epoch 46/100\n",
      "50000/50000 [==============================] - 22s 442us/step - loss: 0.1372 - accuracy: 0.9543 - val_loss: 3.4794 - val_accuracy: 0.5245\n",
      "Epoch 47/100\n",
      "50000/50000 [==============================] - 22s 445us/step - loss: 0.1227 - accuracy: 0.9584 - val_loss: 3.7242 - val_accuracy: 0.5219\n",
      "Epoch 48/100\n",
      "50000/50000 [==============================] - 20s 394us/step - loss: 0.1339 - accuracy: 0.9556 - val_loss: 3.7936 - val_accuracy: 0.5312\n",
      "Epoch 49/100\n",
      "50000/50000 [==============================] - 20s 403us/step - loss: 0.1091 - accuracy: 0.9632 - val_loss: 3.9228 - val_accuracy: 0.5196\n",
      "Epoch 50/100\n",
      "50000/50000 [==============================] - 20s 405us/step - loss: 0.1343 - accuracy: 0.9556 - val_loss: 3.7615 - val_accuracy: 0.5229\n",
      "Epoch 51/100\n",
      "50000/50000 [==============================] - 19s 370us/step - loss: 0.1241 - accuracy: 0.9588 - val_loss: 3.7437 - val_accuracy: 0.5194\n",
      "Epoch 52/100\n",
      "50000/50000 [==============================] - 18s 368us/step - loss: 0.1273 - accuracy: 0.9584 - val_loss: 3.9173 - val_accuracy: 0.5232\n",
      "Epoch 53/100\n",
      "50000/50000 [==============================] - 19s 390us/step - loss: 0.1284 - accuracy: 0.9569 - val_loss: 3.8509 - val_accuracy: 0.5265\n",
      "Epoch 54/100\n",
      "50000/50000 [==============================] - 20s 399us/step - loss: 0.1192 - accuracy: 0.9600 - val_loss: 4.0140 - val_accuracy: 0.5188\n",
      "Epoch 55/100\n"
     ]
    },
    {
     "name": "stdout",
     "output_type": "stream",
     "text": [
      "50000/50000 [==============================] - 20s 397us/step - loss: 0.1248 - accuracy: 0.9597 - val_loss: 3.8749 - val_accuracy: 0.5188\n",
      "Epoch 56/100\n",
      "50000/50000 [==============================] - 21s 425us/step - loss: 0.1103 - accuracy: 0.9641 - val_loss: 3.7677 - val_accuracy: 0.5226\n",
      "Epoch 57/100\n",
      "50000/50000 [==============================] - 22s 435us/step - loss: 0.1078 - accuracy: 0.9649 - val_loss: 3.9530 - val_accuracy: 0.5231\n",
      "Epoch 58/100\n",
      "50000/50000 [==============================] - 23s 456us/step - loss: 0.1219 - accuracy: 0.9617 - val_loss: 3.8427 - val_accuracy: 0.5216\n",
      "Epoch 59/100\n",
      "50000/50000 [==============================] - 23s 470us/step - loss: 0.1055 - accuracy: 0.9661 - val_loss: 4.0232 - val_accuracy: 0.5209\n",
      "Epoch 60/100\n",
      "50000/50000 [==============================] - 22s 437us/step - loss: 0.0982 - accuracy: 0.9687 - val_loss: 4.0841 - val_accuracy: 0.5259\n",
      "Epoch 61/100\n",
      "50000/50000 [==============================] - 23s 468us/step - loss: 0.1217 - accuracy: 0.9603 - val_loss: 4.0678 - val_accuracy: 0.5277\n",
      "Epoch 62/100\n",
      "50000/50000 [==============================] - 21s 422us/step - loss: 0.1084 - accuracy: 0.9647 - val_loss: 3.9595 - val_accuracy: 0.5215\n",
      "Epoch 63/100\n",
      "50000/50000 [==============================] - 22s 430us/step - loss: 0.1003 - accuracy: 0.9667 - val_loss: 4.1997 - val_accuracy: 0.5209\n",
      "Epoch 64/100\n",
      "50000/50000 [==============================] - 20s 403us/step - loss: 0.1146 - accuracy: 0.9635 - val_loss: 3.9536 - val_accuracy: 0.5215\n",
      "Epoch 65/100\n",
      "50000/50000 [==============================] - 20s 396us/step - loss: 0.0930 - accuracy: 0.9696 - val_loss: 4.2743 - val_accuracy: 0.5300\n",
      "Epoch 66/100\n",
      "50000/50000 [==============================] - 21s 421us/step - loss: 0.1003 - accuracy: 0.9688 - val_loss: 4.1500 - val_accuracy: 0.5260\n",
      "Epoch 67/100\n",
      "50000/50000 [==============================] - 20s 396us/step - loss: 0.1043 - accuracy: 0.9661 - val_loss: 4.3884 - val_accuracy: 0.5226\n",
      "Epoch 68/100\n",
      "50000/50000 [==============================] - 20s 401us/step - loss: 0.1140 - accuracy: 0.9630 - val_loss: 4.3322 - val_accuracy: 0.5178\n",
      "Epoch 69/100\n",
      "50000/50000 [==============================] - 19s 380us/step - loss: 0.1018 - accuracy: 0.9675 - val_loss: 4.0737 - val_accuracy: 0.5210\n",
      "Epoch 70/100\n",
      "50000/50000 [==============================] - 20s 397us/step - loss: 0.0857 - accuracy: 0.9726 - val_loss: 4.2048 - val_accuracy: 0.5189\n",
      "Epoch 71/100\n",
      "50000/50000 [==============================] - 20s 392us/step - loss: 0.0849 - accuracy: 0.9726 - val_loss: 4.3752 - val_accuracy: 0.5183acy: 0.97\n",
      "Epoch 72/100\n",
      "50000/50000 [==============================] - 20s 391us/step - loss: 0.1098 - accuracy: 0.9657 - val_loss: 4.0788 - val_accuracy: 0.5203\n",
      "Epoch 73/100\n",
      "50000/50000 [==============================] - 21s 425us/step - loss: 0.1052 - accuracy: 0.9668 - val_loss: 4.2057 - val_accuracy: 0.5172\n",
      "Epoch 74/100\n",
      "50000/50000 [==============================] - 20s 407us/step - loss: 0.0951 - accuracy: 0.9686 - val_loss: 4.3426 - val_accuracy: 0.5273\n",
      "Epoch 75/100\n",
      "50000/50000 [==============================] - 22s 437us/step - loss: 0.1061 - accuracy: 0.9673 - val_loss: 4.2602 - val_accuracy: 0.5167\n",
      "Epoch 76/100\n",
      "50000/50000 [==============================] - 21s 426us/step - loss: 0.0866 - accuracy: 0.9726 - val_loss: 4.2237 - val_accuracy: 0.5257\n",
      "Epoch 77/100\n",
      "50000/50000 [==============================] - 20s 406us/step - loss: 0.0965 - accuracy: 0.9689 - val_loss: 4.1357 - val_accuracy: 0.5239\n",
      "Epoch 78/100\n",
      "50000/50000 [==============================] - 19s 388us/step - loss: 0.0889 - accuracy: 0.9712 - val_loss: 4.4585 - val_accuracy: 0.5178\n",
      "Epoch 79/100\n",
      "50000/50000 [==============================] - 19s 387us/step - loss: 0.1036 - accuracy: 0.9686 - val_loss: 4.2773 - val_accuracy: 0.5225\n",
      "Epoch 80/100\n",
      "50000/50000 [==============================] - 21s 420us/step - loss: 0.0896 - accuracy: 0.9711 - val_loss: 4.3423 - val_accuracy: 0.5221\n",
      "Epoch 81/100\n",
      "50000/50000 [==============================] - 23s 463us/step - loss: 0.0820 - accuracy: 0.9746 - val_loss: 4.2886 - val_accuracy: 0.5162\n",
      "Epoch 82/100\n",
      "50000/50000 [==============================] - 22s 446us/step - loss: 0.0885 - accuracy: 0.9715 - val_loss: 4.3734 - val_accuracy: 0.5182\n",
      "Epoch 83/100\n",
      "50000/50000 [==============================] - 21s 427us/step - loss: 0.0779 - accuracy: 0.9754 - val_loss: 4.5501 - val_accuracy: 0.5227\n",
      "Epoch 84/100\n",
      "50000/50000 [==============================] - 22s 445us/step - loss: 0.1001 - accuracy: 0.9686 - val_loss: 4.2877 - val_accuracy: 0.5181\n",
      "Epoch 85/100\n",
      "50000/50000 [==============================] - 22s 449us/step - loss: 0.0806 - accuracy: 0.9742 - val_loss: 4.5198 - val_accuracy: 0.5291\n",
      "Epoch 86/100\n",
      "50000/50000 [==============================] - 23s 452us/step - loss: 0.0905 - accuracy: 0.9716 - val_loss: 4.2606 - val_accuracy: 0.5204\n",
      "Epoch 87/100\n",
      "50000/50000 [==============================] - 22s 447us/step - loss: 0.0883 - accuracy: 0.9723 - val_loss: 4.3108 - val_accuracy: 0.5229\n",
      "Epoch 88/100\n",
      "50000/50000 [==============================] - 22s 430us/step - loss: 0.0932 - accuracy: 0.9710 - val_loss: 4.5149 - val_accuracy: 0.5277\n",
      "Epoch 89/100\n",
      "50000/50000 [==============================] - 20s 394us/step - loss: 0.0971 - accuracy: 0.9696 - val_loss: 4.3734 - val_accuracy: 0.5221\n",
      "Epoch 90/100\n",
      "50000/50000 [==============================] - 19s 382us/step - loss: 0.0852 - accuracy: 0.9733 - val_loss: 4.6413 - val_accuracy: 0.5199\n",
      "Epoch 91/100\n",
      "50000/50000 [==============================] - 18s 369us/step - loss: 0.0832 - accuracy: 0.9733 - val_loss: 4.5539 - val_accuracy: 0.5243\n",
      "Epoch 92/100\n",
      "50000/50000 [==============================] - 19s 379us/step - loss: 0.0711 - accuracy: 0.9778 - val_loss: 4.5262 - val_accuracy: 0.5166\n",
      "Epoch 93/100\n",
      "50000/50000 [==============================] - 18s 353us/step - loss: 0.1060 - accuracy: 0.9680 - val_loss: 4.3278 - val_accuracy: 0.5258\n",
      "Epoch 94/100\n",
      "50000/50000 [==============================] - 18s 364us/step - loss: 0.0743 - accuracy: 0.9759 - val_loss: 4.6616 - val_accuracy: 0.5222\n",
      "Epoch 95/100\n",
      "50000/50000 [==============================] - 18s 351us/step - loss: 0.1128 - accuracy: 0.9662 - val_loss: 4.2039 - val_accuracy: 0.5314\n",
      "Epoch 96/100\n",
      "50000/50000 [==============================] - 17s 350us/step - loss: 0.0808 - accuracy: 0.9741 - val_loss: 4.5059 - val_accuracy: 0.5207\n",
      "Epoch 97/100\n",
      "50000/50000 [==============================] - 17s 348us/step - loss: 0.0816 - accuracy: 0.9742 - val_loss: 4.3891 - val_accuracy: 0.5303\n",
      "Epoch 98/100\n",
      "50000/50000 [==============================] - 18s 361us/step - loss: 0.0745 - accuracy: 0.9774 - val_loss: 4.5702 - val_accuracy: 0.5249\n",
      "Epoch 99/100\n",
      "50000/50000 [==============================] - 18s 363us/step - loss: 0.1045 - accuracy: 0.9688 - val_loss: 4.4036 - val_accuracy: 0.5258\n",
      "Epoch 100/100\n",
      "50000/50000 [==============================] - 18s 370us/step - loss: 0.0636 - accuracy: 0.9806 - val_loss: 4.4407 - val_accuracy: 0.5295\n"
     ]
    },
    {
     "data": {
      "text/plain": [
       "<keras.callbacks.callbacks.History at 0x14bc5727388>"
      ]
     },
     "execution_count": 14,
     "metadata": {},
     "output_type": "execute_result"
    }
   ],
   "source": [
    "model.fit(x_train, y_train, \n",
    "          epochs=EPOCHS, \n",
    "          batch_size=BATCH_SIZE, \n",
    "          validation_data=(x_test, y_test), \n",
    "          shuffle=True)"
   ]
  },
  {
   "cell_type": "code",
   "execution_count": 17,
   "metadata": {},
   "outputs": [
    {
     "data": {
      "image/png": "[encoded data removed]",
      "text/plain": [
       "<Figure size 432x288 with 1 Axes>"
      ]
     },
     "metadata": {
      "needs_background": "light"
     },
     "output_type": "display_data"
    },
    {
     "data": {
      "image/png": "[encoded data removed]",
      "text/plain": [
       "<Figure size 432x288 with 1 Axes>"
      ]
     },
     "metadata": {
      "needs_background": "light"
     },
     "output_type": "display_data"
    }
   ],
   "source": [
    "import matplotlib.pyplot as plt\n",
    "\n",
    "\n",
    "train_loss = model.history.history[\"loss\"]\n",
    "valid_loss = model.history.history[\"val_loss\"]\n",
    "\n",
    "train_acc = model.history.history[\"accuracy\"]\n",
    "valid_acc = model.history.history[\"val_accuracy\"]\n",
    "\n",
    "plt.plot(range(len(train_loss)), train_loss, label=\"train loss\")\n",
    "plt.plot(range(len(valid_loss)), valid_loss, label=\"valid loss\")\n",
    "plt.legend()\n",
    "plt.title(\"Loss\")\n",
    "plt.show()\n",
    "\n",
    "plt.plot(range(len(train_acc)), train_acc, label=\"train accuracy\")\n",
    "plt.plot(range(len(valid_acc)), valid_acc, label=\"valid accuracy\")\n",
    "plt.legend()\n",
    "plt.title(\"Accuracy\")\n",
    "plt.show()"
   ]
  },
  {
   "cell_type": "code",
   "execution_count": null,
   "metadata": {},
   "outputs": [],
   "source": []
  }
 ],
 "metadata": {
  "kernelspec": {
   "display_name": "tensor_flow",
   "language": "python",
   "name": "tensor_flow"
  },
  "language_info": {
   "codemirror_mode": {
    "name": "ipython",
    "version": 3
   },
   "file_extension": ".py",
   "mimetype": "text/x-python",
   "name": "python",
   "nbconvert_exporter": "python",
   "pygments_lexer": "ipython3",
   "version": "3.7.6"
  }
 },
 "nbformat": 4,
 "nbformat_minor": 2
}
