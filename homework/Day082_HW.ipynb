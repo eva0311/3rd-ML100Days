{
 "cells": [
  {
   "cell_type": "markdown",
   "metadata": {},
   "source": [
    "## Work\n",
    "1. 請比較使用不同層數以及不同 Dropout rate 對訓練的效果\n",
    "2. 將 optimizer 改成使用 Adam 並加上適當的 dropout rate 檢視結果"
   ]
  },
  {
   "cell_type": "code",
   "execution_count": 1,
   "metadata": {},
   "outputs": [
    {
     "name": "stderr",
     "output_type": "stream",
     "text": [
      "Using TensorFlow backend.\n"
     ]
    }
   ],
   "source": [
    "import os\n",
    "import keras\n",
    "import itertools\n",
    "# Disable GPU\n",
    "os.environ[\"CUDA_VISIBLE_DEVICES\"] = \"\""
   ]
  },
  {
   "cell_type": "code",
   "execution_count": 2,
   "metadata": {},
   "outputs": [],
   "source": [
    "train, test = keras.datasets.cifar10.load_data()"
   ]
  },
  {
   "cell_type": "code",
   "execution_count": 3,
   "metadata": {},
   "outputs": [],
   "source": [
    "## 資料前處理\n",
    "def preproc_x(x, flatten=True):\n",
    "    x = x / 255.\n",
    "    if flatten:\n",
    "        x = x.reshape((len(x), -1))\n",
    "    return x\n",
    "\n",
    "def preproc_y(y, num_classes=10):\n",
    "    if y.shape[-1] == 1:\n",
    "        y = keras.utils.to_categorical(y, num_classes)\n",
    "    return y    "
   ]
  },
  {
   "cell_type": "code",
   "execution_count": 4,
   "metadata": {},
   "outputs": [],
   "source": [
    "x_train, y_train = train\n",
    "x_test, y_test = test\n",
    "\n",
    "# Preproc the inputs\n",
    "x_train = preproc_x(x_train)\n",
    "x_test = preproc_x(x_test)\n",
    "\n",
    "# Preprc the outputs\n",
    "y_train = preproc_y(y_train)\n",
    "y_test = preproc_y(y_test)"
   ]
  },
  {
   "cell_type": "code",
   "execution_count": 6,
   "metadata": {},
   "outputs": [],
   "source": [
    "from keras.layers import Dropout\n",
    "\n",
    "\"\"\"\n",
    "建立神經網路，並加入 dropout layer\n",
    "\"\"\"\n",
    "def build_mlp(input_shape, output_units=10, num_neurons=[512, 256, 128], drp_ratio=0.2):\n",
    "    input_layer = keras.layers.Input(input_shape)\n",
    "    \n",
    "    for i, n_units in enumerate(num_neurons):\n",
    "        if i == 0:\n",
    "            x = keras.layers.Dense(units=n_units, \n",
    "                                   activation=\"relu\", \n",
    "                                   name=\"hidden_layer\"+str(i+1))(input_layer)\n",
    "            x = Dropout(drp_ratio)(x)\n",
    "        else:\n",
    "            x = keras.layers.Dense(units=n_units, \n",
    "                                   activation=\"relu\", \n",
    "                                   name=\"hidden_layer\"+str(i+1))(x)\n",
    "            x = Dropout(drp_ratio)(x)\n",
    "    \n",
    "    out = keras.layers.Dense(units=output_units, activation=\"softmax\", name=\"output\")(x)\n",
    "    \n",
    "    model = keras.models.Model(inputs=[input_layer], outputs=[out])\n",
    "    return model"
   ]
  },
  {
   "cell_type": "code",
   "execution_count": 7,
   "metadata": {},
   "outputs": [],
   "source": [
    "\"\"\"Code Here\n",
    "設定超參數\n",
    "\"\"\"\n",
    "LEARNING_RATE = 1e-3\n",
    "EPOCHS = 50\n",
    "BATCH_SIZE = 256\n",
    "MOMENTUM = 0.95\n",
    "Dropout_EXP = 0.25"
   ]
  },
  {
   "cell_type": "code",
   "execution_count": 11,
   "metadata": {
    "scrolled": true
   },
   "outputs": [
    {
     "name": "stdout",
     "output_type": "stream",
     "text": [
      "Model: \"model_3\"\n",
      "_________________________________________________________________\n",
      "Layer (type)                 Output Shape              Param #   \n",
      "=================================================================\n",
      "input_3 (InputLayer)         (None, 3072)              0         \n",
      "_________________________________________________________________\n",
      "hidden_layer1 (Dense)        (None, 512)               1573376   \n",
      "_________________________________________________________________\n",
      "dropout_7 (Dropout)          (None, 512)               0         \n",
      "_________________________________________________________________\n",
      "hidden_layer2 (Dense)        (None, 256)               131328    \n",
      "_________________________________________________________________\n",
      "dropout_8 (Dropout)          (None, 256)               0         \n",
      "_________________________________________________________________\n",
      "hidden_layer3 (Dense)        (None, 128)               32896     \n",
      "_________________________________________________________________\n",
      "dropout_9 (Dropout)          (None, 128)               0         \n",
      "_________________________________________________________________\n",
      "output (Dense)               (None, 10)                1290      \n",
      "=================================================================\n",
      "Total params: 1,738,890\n",
      "Trainable params: 1,738,890\n",
      "Non-trainable params: 0\n",
      "_________________________________________________________________\n",
      "Train on 50000 samples, validate on 10000 samples\n",
      "Epoch 1/50\n",
      "50000/50000 [==============================] - 57s 1ms/step - loss: 2.2120 - accuracy: 0.1736 - val_loss: 2.0171 - val_accuracy: 0.2914\n",
      "Epoch 2/50\n",
      "50000/50000 [==============================] - 15s 304us/step - loss: 2.0138 - accuracy: 0.2603 - val_loss: 1.8760 - val_accuracy: 0.3392\n",
      "Epoch 3/50\n",
      "50000/50000 [==============================] - 15s 301us/step - loss: 1.9249 - accuracy: 0.2988 - val_loss: 1.8154 - val_accuracy: 0.3611\n",
      "Epoch 4/50\n",
      "50000/50000 [==============================] - 15s 299us/step - loss: 1.8671 - accuracy: 0.3251 - val_loss: 1.7559 - val_accuracy: 0.3822\n",
      "Epoch 5/50\n",
      "50000/50000 [==============================] - 15s 301us/step - loss: 1.8282 - accuracy: 0.3414 - val_loss: 1.7211 - val_accuracy: 0.3911\n",
      "Epoch 6/50\n",
      "50000/50000 [==============================] - 16s 311us/step - loss: 1.7908 - accuracy: 0.3582 - val_loss: 1.6922 - val_accuracy: 0.4024\n",
      "Epoch 7/50\n",
      "50000/50000 [==============================] - 16s 327us/step - loss: 1.7630 - accuracy: 0.3654 - val_loss: 1.6581 - val_accuracy: 0.4137\n",
      "Epoch 8/50\n",
      "50000/50000 [==============================] - 16s 315us/step - loss: 1.7362 - accuracy: 0.3782 - val_loss: 1.6302 - val_accuracy: 0.4242\n",
      "Epoch 9/50\n",
      "50000/50000 [==============================] - 16s 316us/step - loss: 1.7106 - accuracy: 0.3885 - val_loss: 1.6077 - val_accuracy: 0.4348\n",
      "Epoch 10/50\n",
      "50000/50000 [==============================] - 15s 306us/step - loss: 1.6919 - accuracy: 0.3950 - val_loss: 1.5936 - val_accuracy: 0.4330\n",
      "Epoch 11/50\n",
      "50000/50000 [==============================] - 16s 314us/step - loss: 1.6668 - accuracy: 0.4046 - val_loss: 1.5848 - val_accuracy: 0.4394\n",
      "Epoch 12/50\n",
      "50000/50000 [==============================] - 15s 302us/step - loss: 1.6499 - accuracy: 0.4139 - val_loss: 1.5524 - val_accuracy: 0.4521\n",
      "Epoch 13/50\n",
      "50000/50000 [==============================] - 16s 311us/step - loss: 1.6341 - accuracy: 0.4168 - val_loss: 1.5381 - val_accuracy: 0.4578\n",
      "Epoch 14/50\n",
      "50000/50000 [==============================] - 15s 301us/step - loss: 1.6161 - accuracy: 0.4243 - val_loss: 1.5244 - val_accuracy: 0.4616\n",
      "Epoch 15/50\n",
      "50000/50000 [==============================] - 15s 305us/step - loss: 1.6012 - accuracy: 0.4290 - val_loss: 1.5100 - val_accuracy: 0.4670\n",
      "Epoch 16/50\n",
      "50000/50000 [==============================] - 15s 306us/step - loss: 1.5866 - accuracy: 0.4329 - val_loss: 1.4984 - val_accuracy: 0.4711\n",
      "Epoch 17/50\n",
      "50000/50000 [==============================] - 16s 328us/step - loss: 1.5704 - accuracy: 0.4414 - val_loss: 1.4922 - val_accuracy: 0.4737\n",
      "Epoch 18/50\n",
      "50000/50000 [==============================] - 15s 304us/step - loss: 1.5607 - accuracy: 0.4447 - val_loss: 1.4934 - val_accuracy: 0.4686\n",
      "Epoch 19/50\n",
      "50000/50000 [==============================] - 16s 311us/step - loss: 1.5507 - accuracy: 0.4469 - val_loss: 1.4667 - val_accuracy: 0.4832\n",
      "Epoch 20/50\n",
      "50000/50000 [==============================] - 15s 299us/step - loss: 1.5344 - accuracy: 0.4536 - val_loss: 1.4583 - val_accuracy: 0.4839\n",
      "Epoch 21/50\n",
      "50000/50000 [==============================] - 15s 297us/step - loss: 1.5264 - accuracy: 0.4556 - val_loss: 1.4471 - val_accuracy: 0.4888\n",
      "Epoch 22/50\n",
      "50000/50000 [==============================] - 15s 295us/step - loss: 1.5178 - accuracy: 0.4590 - val_loss: 1.4567 - val_accuracy: 0.4809\n",
      "Epoch 23/50\n",
      "50000/50000 [==============================] - 15s 298us/step - loss: 1.5041 - accuracy: 0.4659 - val_loss: 1.4363 - val_accuracy: 0.4900\n",
      "Epoch 24/50\n",
      "50000/50000 [==============================] - 15s 297us/step - loss: 1.4966 - accuracy: 0.4664 - val_loss: 1.4316 - val_accuracy: 0.4941\n",
      "Epoch 25/50\n",
      "50000/50000 [==============================] - 15s 296us/step - loss: 1.4913 - accuracy: 0.4677 - val_loss: 1.4245 - val_accuracy: 0.4939\n",
      "Epoch 26/50\n",
      "50000/50000 [==============================] - 15s 296us/step - loss: 1.4763 - accuracy: 0.4735 - val_loss: 1.4130 - val_accuracy: 0.4978\n",
      "Epoch 27/50\n",
      "50000/50000 [==============================] - 15s 297us/step - loss: 1.4651 - accuracy: 0.4763 - val_loss: 1.4127 - val_accuracy: 0.4967\n",
      "Epoch 28/50\n",
      "50000/50000 [==============================] - 15s 309us/step - loss: 1.4573 - accuracy: 0.4801 - val_loss: 1.3983 - val_accuracy: 0.5041\n",
      "Epoch 29/50\n",
      "50000/50000 [==============================] - 15s 306us/step - loss: 1.4530 - accuracy: 0.4828 - val_loss: 1.3982 - val_accuracy: 0.5028\n",
      "Epoch 30/50\n",
      "50000/50000 [==============================] - 15s 300us/step - loss: 1.4411 - accuracy: 0.4850 - val_loss: 1.3953 - val_accuracy: 0.5007\n",
      "Epoch 31/50\n",
      "50000/50000 [==============================] - 15s 303us/step - loss: 1.4308 - accuracy: 0.4874 - val_loss: 1.3825 - val_accuracy: 0.5080\n",
      "Epoch 32/50\n",
      "50000/50000 [==============================] - 15s 307us/step - loss: 1.4235 - accuracy: 0.4925 - val_loss: 1.3838 - val_accuracy: 0.5028\n",
      "Epoch 33/50\n",
      "50000/50000 [==============================] - 15s 304us/step - loss: 1.4188 - accuracy: 0.4937 - val_loss: 1.3862 - val_accuracy: 0.5084\n",
      "Epoch 34/50\n",
      "50000/50000 [==============================] - 15s 301us/step - loss: 1.4070 - accuracy: 0.4960 - val_loss: 1.3755 - val_accuracy: 0.5056\n",
      "Epoch 35/50\n",
      "50000/50000 [==============================] - 15s 301us/step - loss: 1.4017 - accuracy: 0.4994 - val_loss: 1.3740 - val_accuracy: 0.5121\n",
      "Epoch 36/50\n",
      "50000/50000 [==============================] - 15s 302us/step - loss: 1.3911 - accuracy: 0.5043 - val_loss: 1.3616 - val_accuracy: 0.5145\n",
      "Epoch 37/50\n",
      "50000/50000 [==============================] - 15s 298us/step - loss: 1.3886 - accuracy: 0.5063 - val_loss: 1.3551 - val_accuracy: 0.5205\n",
      "Epoch 38/50\n",
      "50000/50000 [==============================] - 15s 295us/step - loss: 1.3788 - accuracy: 0.5086 - val_loss: 1.3491 - val_accuracy: 0.5187\n",
      "Epoch 39/50\n",
      "50000/50000 [==============================] - 15s 301us/step - loss: 1.3733 - accuracy: 0.5102 - val_loss: 1.3427 - val_accuracy: 0.5204\n",
      "Epoch 40/50\n",
      "50000/50000 [==============================] - 15s 302us/step - loss: 1.3594 - accuracy: 0.5148 - val_loss: 1.3413 - val_accuracy: 0.5273\n",
      "Epoch 41/50\n",
      "50000/50000 [==============================] - 15s 299us/step - loss: 1.3581 - accuracy: 0.5138 - val_loss: 1.3516 - val_accuracy: 0.5182\n",
      "Epoch 42/50\n",
      "50000/50000 [==============================] - 15s 300us/step - loss: 1.3463 - accuracy: 0.5190 - val_loss: 1.3329 - val_accuracy: 0.5275\n",
      "Epoch 43/50\n",
      "50000/50000 [==============================] - 15s 297us/step - loss: 1.3444 - accuracy: 0.5178 - val_loss: 1.3364 - val_accuracy: 0.5234\n",
      "Epoch 44/50\n",
      "50000/50000 [==============================] - 15s 301us/step - loss: 1.3398 - accuracy: 0.5202 - val_loss: 1.3319 - val_accuracy: 0.5201\n",
      "Epoch 45/50\n",
      "50000/50000 [==============================] - 15s 303us/step - loss: 1.3320 - accuracy: 0.5245 - val_loss: 1.3234 - val_accuracy: 0.5278\n"
     ]
    },
    {
     "name": "stdout",
     "output_type": "stream",
     "text": [
      "Epoch 46/50\n",
      "50000/50000 [==============================] - 15s 293us/step - loss: 1.3234 - accuracy: 0.5272 - val_loss: 1.3279 - val_accuracy: 0.5271\n",
      "Epoch 47/50\n",
      "50000/50000 [==============================] - 15s 310us/step - loss: 1.3224 - accuracy: 0.5252 - val_loss: 1.3227 - val_accuracy: 0.5275\n",
      "Epoch 48/50\n",
      "50000/50000 [==============================] - 15s 302us/step - loss: 1.3145 - accuracy: 0.5308 - val_loss: 1.3148 - val_accuracy: 0.5346\n",
      "Epoch 49/50\n",
      "50000/50000 [==============================] - 15s 305us/step - loss: 1.3060 - accuracy: 0.5368 - val_loss: 1.3155 - val_accuracy: 0.5342\n",
      "Epoch 50/50\n",
      "50000/50000 [==============================] - 15s 301us/step - loss: 1.2974 - accuracy: 0.5336 - val_loss: 1.3191 - val_accuracy: 0.5310\n"
     ]
    }
   ],
   "source": [
    "results = {}\n",
    "\"\"\"Code Here\n",
    "撰寫你的訓練流程並將結果用 dictionary 紀錄\n",
    "\"\"\"\n",
    "model = build_mlp(input_shape=x_train.shape[1:], drp_ratio=Dropout_EXP)\n",
    "model.summary()\n",
    "optimizer = keras.optimizers.SGD(lr=LEARNING_RATE, nesterov=True, momentum=MOMENTUM)\n",
    "model.compile(loss=\"categorical_crossentropy\", metrics=[\"accuracy\"], optimizer=optimizer)\n",
    "\n",
    "model.fit(x_train, y_train, \n",
    "          epochs=EPOCHS, \n",
    "          batch_size=BATCH_SIZE, \n",
    "          validation_data=(x_test, y_test), \n",
    "          shuffle=True)\n",
    "\n",
    "# Collect results\n",
    "train_loss = model.history.history[\"loss\"]\n",
    "valid_loss = model.history.history[\"val_loss\"]\n",
    "train_acc = model.history.history[\"accuracy\"]\n",
    "valid_acc = model.history.history[\"val_accuracy\"]"
   ]
  },
  {
   "cell_type": "code",
   "execution_count": 12,
   "metadata": {},
   "outputs": [
    {
     "data": {
      "image/png": "[encoded data removed]",
      "text/plain": [
       "<Figure size 432x288 with 1 Axes>"
      ]
     },
     "metadata": {
      "needs_background": "light"
     },
     "output_type": "display_data"
    },
    {
     "data": {
      "image/png": "[encoded data removed]",
      "text/plain": [
       "<Figure size 432x288 with 1 Axes>"
      ]
     },
     "metadata": {
      "needs_background": "light"
     },
     "output_type": "display_data"
    }
   ],
   "source": [
    "import matplotlib.pyplot as plt\n",
    "%matplotlib inline\n",
    "\"\"\"Code Here\n",
    "將結果繪出\n",
    "\"\"\"\n",
    "\n",
    "plt.plot(range(len(train_loss)), train_loss, label=\"train loss\")\n",
    "plt.plot(range(len(valid_loss)), valid_loss, label=\"valid loss\")\n",
    "plt.legend()\n",
    "plt.title(\"Loss\")\n",
    "plt.show()\n",
    "\n",
    "plt.plot(range(len(train_acc)), train_acc, label=\"train accuracy\")\n",
    "plt.plot(range(len(valid_acc)), valid_acc, label=\"valid accuracy\")\n",
    "plt.legend()\n",
    "plt.title(\"Accuracy\")\n",
    "plt.show()"
   ]
  }
 ],
 "metadata": {
  "kernelspec": {
   "display_name": "tensor_flow",
   "language": "python",
   "name": "tensor_flow"
  },
  "language_info": {
   "codemirror_mode": {
    "name": "ipython",
    "version": 3
   },
   "file_extension": ".py",
   "mimetype": "text/x-python",
   "name": "python",
   "nbconvert_exporter": "python",
   "pygments_lexer": "ipython3",
   "version": "3.7.6"
  }
 },
 "nbformat": 4,
 "nbformat_minor": 2
}
