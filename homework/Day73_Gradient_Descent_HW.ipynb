{
 "cells": [
  {
   "cell_type": "markdown",
   "metadata": {},
   "source": [
    "# 作業重點\n",
    "\n",
    "使用function y=(x+5)² 來練習學習率( leanrning rate ) 調整所造成的影響"
   ]
  },
  {
   "cell_type": "markdown",
   "metadata": {},
   "source": [
    "# 作業目標:\n",
    "    請嘗試使用不同的組合驗證 learning rate 對所需 iteration 的影響\n",
    "    lr = [0.1, 0.0001]\n",
    "    主要驗證 Lr 對於grandient 收斂的速度\n",
    "    "
   ]
  },
  {
   "cell_type": "code",
   "execution_count": 1,
   "metadata": {},
   "outputs": [],
   "source": [
    "cur_x = 3 # The algorithm starts at x=3\n",
    "precision = 0.000001 #This tells us when to stop the algorithm\n",
    "max_iters = 10000 # maximum number of iterations\n",
    "df = lambda x: 2*(x+5) #Gradient of our function "
   ]
  },
  {
   "cell_type": "code",
   "execution_count": 7,
   "metadata": {
    "scrolled": false
   },
   "outputs": [
    {
     "data": {
      "text/plain": [
       "'\\nwhile previous_step_size > precision and iters < max_iters:\\n\\n  算法迭代更新\\n\\nprint(\"the learning rate is\",lr, \"\\nIteration\",iters,\"\\nX value is\",cur_x) #Print iterations\\n'"
      ]
     },
     "execution_count": 7,
     "metadata": {},
     "output_type": "execute_result"
    }
   ],
   "source": [
    "'''\n",
    "需要執行初始值設定, 下列三個\n",
    "# Learning rate\n",
    "#iteration counter\n",
    "#Step size  \n",
    "'''\n",
    "'''\n",
    "while previous_step_size > precision and iters < max_iters:\n",
    "\n",
    "  算法迭代更新\n",
    "\n",
    "print(\"the learning rate is\",lr, \"\\nIteration\",iters,\"\\nX value is\",cur_x) #Print iterations\n",
    "'''"
   ]
  },
  {
   "cell_type": "code",
   "execution_count": 9,
   "metadata": {},
   "outputs": [],
   "source": [
    "lr = 0.1 # Learning rate\n",
    "previous_step_size = 1 #\n",
    "iters = 0 #iteration counter\n",
    "\n",
    "iters_history = [iters]\n",
    "x_history = [cur_x]"
   ]
  },
  {
   "cell_type": "code",
   "execution_count": 10,
   "metadata": {},
   "outputs": [
    {
     "name": "stdout",
     "output_type": "stream",
     "text": [
      "Iteration 1 \n",
      "X value is -4.999961479225454\n",
      "Iteration 2 \n",
      "X value is -4.9999691833803634\n",
      "Iteration 3 \n",
      "X value is -4.999975346704291\n",
      "Iteration 4 \n",
      "X value is -4.9999802773634325\n",
      "Iteration 5 \n",
      "X value is -4.999984221890746\n",
      "Iteration 6 \n",
      "X value is -4.999987377512597\n",
      "Iteration 7 \n",
      "X value is -4.9999899020100775\n",
      "Iteration 8 \n",
      "X value is -4.999991921608062\n",
      "Iteration 9 \n",
      "X value is -4.99999353728645\n",
      "Iteration 10 \n",
      "X value is -4.99999482982916\n",
      "Iteration 11 \n",
      "X value is -4.999995863863328\n",
      "Iteration 12 \n",
      "X value is -4.999996691090662\n"
     ]
    }
   ],
   "source": [
    "while previous_step_size > precision and iters < max_iters:\n",
    "    prev_x = cur_x #Store current x value in prev_x\n",
    "    cur_x = cur_x - lr * df(prev_x) #Gradient descent\n",
    "    previous_step_size = abs(cur_x - prev_x) # 取較大的值, Change in x\n",
    "    iters = iters+1 #iteration count\n",
    "    print(\"Iteration\",iters,\"\\nX value is\",cur_x) #Print iterations\n",
    "     # Store parameters for plotting\n",
    "    iters_history.append(iters)\n",
    "    x_history.append(cur_x)"
   ]
  },
  {
   "cell_type": "code",
   "execution_count": 11,
   "metadata": {},
   "outputs": [],
   "source": [
    "lr = 0.0001 # Learning rate\n",
    "previous_step_size = 1 #\n",
    "iters = 0 #iteration counter\n",
    "\n",
    "iters_history = [iters]\n",
    "x_history = [cur_x]"
   ]
  },
  {
   "cell_type": "code",
   "execution_count": 12,
   "metadata": {},
   "outputs": [
    {
     "name": "stdout",
     "output_type": "stream",
     "text": [
      "Iteration 1 \n",
      "X value is -4.999996691752444\n"
     ]
    }
   ],
   "source": [
    "while previous_step_size > precision and iters < max_iters:\n",
    "    prev_x = cur_x #Store current x value in prev_x\n",
    "    cur_x = cur_x - lr * df(prev_x) #Gradient descent\n",
    "    previous_step_size = abs(cur_x - prev_x) # 取較大的值, Change in x\n",
    "    iters = iters+1 #iteration count\n",
    "    print(\"Iteration\",iters,\"\\nX value is\",cur_x) #Print iterations\n",
    "     # Store parameters for plotting\n",
    "    iters_history.append(iters)\n",
    "    x_history.append(cur_x)"
   ]
  },
  {
   "cell_type": "code",
   "execution_count": null,
   "metadata": {},
   "outputs": [],
   "source": []
  }
 ],
 "metadata": {
  "kernelspec": {
   "display_name": "tensor_flow",
   "language": "python",
   "name": "tensor_flow"
  },
  "language_info": {
   "codemirror_mode": {
    "name": "ipython",
    "version": 3
   },
   "file_extension": ".py",
   "mimetype": "text/x-python",
   "name": "python",
   "nbconvert_exporter": "python",
   "pygments_lexer": "ipython3",
   "version": "3.7.6"
  }
 },
 "nbformat": 4,
 "nbformat_minor": 2
}
