{
 "cells": [
  {
   "cell_type": "markdown",
   "metadata": {},
   "source": [
    "## Work\n",
    "### 請結合前面的知識與程式碼，比較不同的 regularization 的組合對訓練的結果與影響：如 dropout, regularizers, batch-normalization 等"
   ]
  },
  {
   "cell_type": "code",
   "execution_count": 1,
   "metadata": {},
   "outputs": [
    {
     "name": "stderr",
     "output_type": "stream",
     "text": [
      "Using TensorFlow backend.\n"
     ]
    }
   ],
   "source": [
    "import os\n",
    "import keras\n",
    "import itertools\n",
    "# Disable GPU\n",
    "os.environ[\"CUDA_VISIBLE_DEVICES\"] = \"\""
   ]
  },
  {
   "cell_type": "code",
   "execution_count": 2,
   "metadata": {},
   "outputs": [],
   "source": [
    "train, test = keras.datasets.cifar10.load_data()"
   ]
  },
  {
   "cell_type": "code",
   "execution_count": 3,
   "metadata": {},
   "outputs": [],
   "source": [
    "## 資料前處理\n",
    "def preproc_x(x, flatten=True):\n",
    "    x = x / 255.\n",
    "    if flatten:\n",
    "        x = x.reshape((len(x), -1))\n",
    "    return x\n",
    "\n",
    "def preproc_y(y, num_classes=10):\n",
    "    if y.shape[-1] == 1:\n",
    "        y = keras.utils.to_categorical(y, num_classes)\n",
    "    return y    "
   ]
  },
  {
   "cell_type": "code",
   "execution_count": 4,
   "metadata": {},
   "outputs": [],
   "source": [
    "x_train, y_train = train\n",
    "x_test, y_test = test\n",
    "\n",
    "# Preproc the inputs\n",
    "x_train = preproc_x(x_train)\n",
    "x_test = preproc_x(x_test)\n",
    "\n",
    "# Preprc the outputs\n",
    "y_train = preproc_y(y_train)\n",
    "y_test = preproc_y(y_test)"
   ]
  },
  {
   "cell_type": "code",
   "execution_count": 5,
   "metadata": {},
   "outputs": [],
   "source": [
    "from keras.layers import BatchNormalization\n",
    "def build_mlp(input_shape, output_units=10, num_neurons=[512, 256, 128], drp_ratio=0.2):\n",
    "    \"\"\"Code Here\n",
    "    建立你的神經網路\n",
    "    \"\"\"\n",
    "    input_layer = keras.layers.Input(input_shape)\n",
    "    \n",
    "    for i, n_units in enumerate(num_neurons):\n",
    "        if i == 0:\n",
    "            x = keras.layers.Dense(units=n_units, activation=\"relu\", name=\"hidden_layer\"+str(i+1))(input_layer)\n",
    "        else:\n",
    "            x = keras.layers.Dense(units=n_units, activation=\"relu\", name=\"hidden_layer\"+str(i+1))(x)\n",
    "    \n",
    "    out = keras.layers.Dense(units=output_units, activation=\"softmax\", name=\"output\")(x)\n",
    "    \n",
    "    model = keras.models.Model(inputs=[input_layer], outputs=[out])\n",
    "    return model\n",
    "    return model"
   ]
  },
  {
   "cell_type": "code",
   "execution_count": 6,
   "metadata": {},
   "outputs": [],
   "source": [
    "\"\"\"Code Here\n",
    "設定超參數\n",
    "\"\"\"\n",
    "LEARNING_RATE = 1e-3\n",
    "EPOCHS = 50\n",
    "BATCH_SIZE = 256\n",
    "MOMENTUM = 0.95\n",
    "Dropout_EXP = 0.25"
   ]
  },
  {
   "cell_type": "code",
   "execution_count": 9,
   "metadata": {
    "scrolled": true
   },
   "outputs": [
    {
     "name": "stdout",
     "output_type": "stream",
     "text": [
      "Model: \"model_3\"\n",
      "_________________________________________________________________\n",
      "Layer (type)                 Output Shape              Param #   \n",
      "=================================================================\n",
      "input_3 (InputLayer)         (None, 3072)              0         \n",
      "_________________________________________________________________\n",
      "hidden_layer1 (Dense)        (None, 512)               1573376   \n",
      "_________________________________________________________________\n",
      "hidden_layer2 (Dense)        (None, 256)               131328    \n",
      "_________________________________________________________________\n",
      "hidden_layer3 (Dense)        (None, 128)               32896     \n",
      "_________________________________________________________________\n",
      "output (Dense)               (None, 10)                1290      \n",
      "=================================================================\n",
      "Total params: 1,738,890\n",
      "Trainable params: 1,738,890\n",
      "Non-trainable params: 0\n",
      "_________________________________________________________________\n",
      "Train on 50000 samples, validate on 10000 samples\n",
      "Epoch 1/50\n",
      "50000/50000 [==============================] - 17s 334us/step - loss: 2.0379 - accuracy: 0.2730 - val_loss: 1.8724 - val_accuracy: 0.3453\n",
      "Epoch 2/50\n",
      "50000/50000 [==============================] - 14s 282us/step - loss: 1.8083 - accuracy: 0.3692 - val_loss: 1.7551 - val_accuracy: 0.3860\n",
      "Epoch 3/50\n",
      "50000/50000 [==============================] - 14s 276us/step - loss: 1.7218 - accuracy: 0.4004 - val_loss: 1.6849 - val_accuracy: 0.4108\n",
      "Epoch 4/50\n",
      "50000/50000 [==============================] - 14s 285us/step - loss: 1.6639 - accuracy: 0.4191 - val_loss: 1.6451 - val_accuracy: 0.4279\n",
      "Epoch 5/50\n",
      "50000/50000 [==============================] - 14s 286us/step - loss: 1.6192 - accuracy: 0.4335 - val_loss: 1.5982 - val_accuracy: 0.4419\n",
      "Epoch 6/50\n",
      "50000/50000 [==============================] - 15s 299us/step - loss: 1.5795 - accuracy: 0.4486 - val_loss: 1.5788 - val_accuracy: 0.4448\n",
      "Epoch 7/50\n",
      "50000/50000 [==============================] - 14s 289us/step - loss: 1.5483 - accuracy: 0.4573 - val_loss: 1.5590 - val_accuracy: 0.4469\n",
      "Epoch 8/50\n",
      "50000/50000 [==============================] - 14s 284us/step - loss: 1.5177 - accuracy: 0.4696 - val_loss: 1.5250 - val_accuracy: 0.4580\n",
      "Epoch 9/50\n",
      "50000/50000 [==============================] - 14s 276us/step - loss: 1.4914 - accuracy: 0.4781 - val_loss: 1.5061 - val_accuracy: 0.4640\n",
      "Epoch 10/50\n",
      "50000/50000 [==============================] - 14s 277us/step - loss: 1.4653 - accuracy: 0.4852 - val_loss: 1.5125 - val_accuracy: 0.4634\n",
      "Epoch 11/50\n",
      "50000/50000 [==============================] - 14s 275us/step - loss: 1.4413 - accuracy: 0.4953 - val_loss: 1.5030 - val_accuracy: 0.4616\n",
      "Epoch 12/50\n",
      "50000/50000 [==============================] - 14s 278us/step - loss: 1.4184 - accuracy: 0.4997 - val_loss: 1.4571 - val_accuracy: 0.4793\n",
      "Epoch 13/50\n",
      "50000/50000 [==============================] - 14s 284us/step - loss: 1.3964 - accuracy: 0.5092 - val_loss: 1.4629 - val_accuracy: 0.4762\n",
      "Epoch 14/50\n",
      "50000/50000 [==============================] - 14s 279us/step - loss: 1.3753 - accuracy: 0.5158 - val_loss: 1.4366 - val_accuracy: 0.4931\n",
      "Epoch 15/50\n",
      "50000/50000 [==============================] - 14s 274us/step - loss: 1.3564 - accuracy: 0.5234 - val_loss: 1.4132 - val_accuracy: 0.4987\n",
      "Epoch 16/50\n",
      "50000/50000 [==============================] - 14s 273us/step - loss: 1.3374 - accuracy: 0.5294 - val_loss: 1.4337 - val_accuracy: 0.4884\n",
      "Epoch 17/50\n",
      "50000/50000 [==============================] - 14s 275us/step - loss: 1.3201 - accuracy: 0.5368 - val_loss: 1.4747 - val_accuracy: 0.4840\n",
      "Epoch 18/50\n",
      "50000/50000 [==============================] - 14s 271us/step - loss: 1.3028 - accuracy: 0.5412 - val_loss: 1.3936 - val_accuracy: 0.5011\n",
      "Epoch 19/50\n",
      "50000/50000 [==============================] - 14s 275us/step - loss: 1.2871 - accuracy: 0.5464 - val_loss: 1.4080 - val_accuracy: 0.4999\n",
      "Epoch 20/50\n",
      "50000/50000 [==============================] - 14s 281us/step - loss: 1.2709 - accuracy: 0.5514 - val_loss: 1.3995 - val_accuracy: 0.5083\n",
      "Epoch 21/50\n",
      "50000/50000 [==============================] - 14s 277us/step - loss: 1.2525 - accuracy: 0.5581 - val_loss: 1.3793 - val_accuracy: 0.5123\n",
      "Epoch 22/50\n",
      "50000/50000 [==============================] - 14s 274us/step - loss: 1.2374 - accuracy: 0.5646 - val_loss: 1.3633 - val_accuracy: 0.5158\n",
      "Epoch 23/50\n",
      "50000/50000 [==============================] - 14s 272us/step - loss: 1.2220 - accuracy: 0.5705 - val_loss: 1.3958 - val_accuracy: 0.5056\n",
      "Epoch 24/50\n",
      "50000/50000 [==============================] - 14s 286us/step - loss: 1.2090 - accuracy: 0.5730 - val_loss: 1.3615 - val_accuracy: 0.5132\n",
      "Epoch 25/50\n",
      "50000/50000 [==============================] - 15s 294us/step - loss: 1.1936 - accuracy: 0.5794 - val_loss: 1.3454 - val_accuracy: 0.5239\n",
      "Epoch 26/50\n",
      "50000/50000 [==============================] - 14s 279us/step - loss: 1.1773 - accuracy: 0.5859 - val_loss: 1.3515 - val_accuracy: 0.5224\n",
      "Epoch 27/50\n",
      "50000/50000 [==============================] - 15s 300us/step - loss: 1.1633 - accuracy: 0.5908 - val_loss: 1.3436 - val_accuracy: 0.5273\n",
      "Epoch 28/50\n",
      "50000/50000 [==============================] - 14s 280us/step - loss: 1.1526 - accuracy: 0.5950 - val_loss: 1.4112 - val_accuracy: 0.5069\n",
      "Epoch 29/50\n",
      "50000/50000 [==============================] - 16s 322us/step - loss: 1.1394 - accuracy: 0.5989 - val_loss: 1.4089 - val_accuracy: 0.5052\n",
      "Epoch 30/50\n",
      "50000/50000 [==============================] - 18s 356us/step - loss: 1.1253 - accuracy: 0.6025 - val_loss: 1.3646 - val_accuracy: 0.5195\n",
      "Epoch 31/50\n",
      "50000/50000 [==============================] - 17s 348us/step - loss: 1.1130 - accuracy: 0.6093 - val_loss: 1.3326 - val_accuracy: 0.5302\n",
      "Epoch 32/50\n",
      "50000/50000 [==============================] - 19s 374us/step - loss: 1.0984 - accuracy: 0.6136 - val_loss: 1.3412 - val_accuracy: 0.5314\n",
      "Epoch 33/50\n",
      "50000/50000 [==============================] - 20s 394us/step - loss: 1.0872 - accuracy: 0.6200 - val_loss: 1.3236 - val_accuracy: 0.5343\n",
      "Epoch 34/50\n",
      "50000/50000 [==============================] - 17s 335us/step - loss: 1.0737 - accuracy: 0.6240 - val_loss: 1.3371 - val_accuracy: 0.5321\n",
      "Epoch 35/50\n",
      "50000/50000 [==============================] - 17s 347us/step - loss: 1.0629 - accuracy: 0.6276 - val_loss: 1.3391 - val_accuracy: 0.5279\n",
      "Epoch 36/50\n",
      "50000/50000 [==============================] - 18s 353us/step - loss: 1.0480 - accuracy: 0.6322 - val_loss: 1.3411 - val_accuracy: 0.5326\n",
      "Epoch 37/50\n",
      "50000/50000 [==============================] - 18s 356us/step - loss: 1.0384 - accuracy: 0.6369 - val_loss: 1.3660 - val_accuracy: 0.5266\n",
      "Epoch 38/50\n",
      "50000/50000 [==============================] - 17s 334us/step - loss: 1.0286 - accuracy: 0.6376 - val_loss: 1.4478 - val_accuracy: 0.5018\n",
      "Epoch 39/50\n",
      "50000/50000 [==============================] - 17s 333us/step - loss: 1.0159 - accuracy: 0.6419 - val_loss: 1.3752 - val_accuracy: 0.5240\n",
      "Epoch 40/50\n",
      "50000/50000 [==============================] - 17s 339us/step - loss: 1.0018 - accuracy: 0.6481 - val_loss: 1.3489 - val_accuracy: 0.5315\n",
      "Epoch 41/50\n",
      "50000/50000 [==============================] - 16s 321us/step - loss: 0.9884 - accuracy: 0.6544 - val_loss: 1.3782 - val_accuracy: 0.5277\n",
      "Epoch 42/50\n",
      "50000/50000 [==============================] - 17s 337us/step - loss: 0.9723 - accuracy: 0.6583 - val_loss: 1.3970 - val_accuracy: 0.5211\n",
      "Epoch 43/50\n",
      "50000/50000 [==============================] - 16s 324us/step - loss: 0.9645 - accuracy: 0.6620 - val_loss: 1.3541 - val_accuracy: 0.5379\n",
      "Epoch 44/50\n",
      "50000/50000 [==============================] - 15s 299us/step - loss: 0.9512 - accuracy: 0.6663 - val_loss: 1.4136 - val_accuracy: 0.5258\n",
      "Epoch 45/50\n",
      "50000/50000 [==============================] - 15s 291us/step - loss: 0.9356 - accuracy: 0.6706 - val_loss: 1.4513 - val_accuracy: 0.5098\n",
      "Epoch 46/50\n",
      "50000/50000 [==============================] - 16s 327us/step - loss: 0.9251 - accuracy: 0.6742 - val_loss: 1.3809 - val_accuracy: 0.5350\n",
      "Epoch 47/50\n",
      "50000/50000 [==============================] - 15s 306us/step - loss: 0.9165 - accuracy: 0.6772 - val_loss: 1.3483 - val_accuracy: 0.5453\n",
      "Epoch 48/50\n"
     ]
    },
    {
     "name": "stdout",
     "output_type": "stream",
     "text": [
      "50000/50000 [==============================] - 14s 288us/step - loss: 0.9043 - accuracy: 0.6839 - val_loss: 1.4805 - val_accuracy: 0.5111\n",
      "Epoch 49/50\n",
      "50000/50000 [==============================] - 14s 286us/step - loss: 0.8959 - accuracy: 0.6836 - val_loss: 1.4224 - val_accuracy: 0.5266\n",
      "Epoch 50/50\n",
      "50000/50000 [==============================] - 14s 286us/step - loss: 0.8803 - accuracy: 0.6893 - val_loss: 1.3757 - val_accuracy: 0.5380\n"
     ]
    }
   ],
   "source": [
    "results = {}\n",
    "\"\"\"Code Here\n",
    "撰寫你的訓練流程並將結果用 dictionary 紀錄\n",
    "\"\"\"\n",
    "model = build_mlp(input_shape=x_train.shape[1:])\n",
    "model.summary()\n",
    "optimizer = keras.optimizers.SGD(lr=LEARNING_RATE, nesterov=True, momentum=MOMENTUM)\n",
    "model.compile(loss=\"categorical_crossentropy\", metrics=[\"accuracy\"], optimizer=optimizer)\n",
    "\n",
    "model.fit(x_train, y_train, \n",
    "          epochs=EPOCHS, \n",
    "          batch_size=BATCH_SIZE, \n",
    "          validation_data=(x_test, y_test), \n",
    "          shuffle=True)\n",
    "\n",
    "# Collect results\n",
    "train_loss = model.history.history[\"loss\"]\n",
    "valid_loss = model.history.history[\"val_loss\"]\n",
    "train_acc = model.history.history[\"accuracy\"]\n",
    "valid_acc = model.history.history[\"val_accuracy\"]"
   ]
  },
  {
   "cell_type": "code",
   "execution_count": 10,
   "metadata": {},
   "outputs": [
    {
     "data": {
      "image/png": "[encoded data removed]",
      "text/plain": [
       "<Figure size 432x288 with 1 Axes>"
      ]
     },
     "metadata": {
      "needs_background": "light"
     },
     "output_type": "display_data"
    },
    {
     "data": {
      "image/png": "[encoded data removed]",
      "text/plain": [
       "<Figure size 432x288 with 1 Axes>"
      ]
     },
     "metadata": {
      "needs_background": "light"
     },
     "output_type": "display_data"
    }
   ],
   "source": [
    "import matplotlib.pyplot as plt\n",
    "%matplotlib inline\n",
    "\"\"\"Code Here\n",
    "將結果繪出\n",
    "\"\"\"\n",
    "plt.plot(range(len(train_loss)), train_loss, label=\"train loss\")\n",
    "plt.plot(range(len(valid_loss)), valid_loss, label=\"valid loss\")\n",
    "plt.legend()\n",
    "plt.title(\"Loss\")\n",
    "plt.show()\n",
    "\n",
    "plt.plot(range(len(train_acc)), train_acc, label=\"train accuracy\")\n",
    "plt.plot(range(len(valid_acc)), valid_acc, label=\"valid accuracy\")\n",
    "plt.legend()\n",
    "plt.title(\"Accuracy\")\n",
    "plt.show()"
   ]
  },
  {
   "cell_type": "code",
   "execution_count": null,
   "metadata": {},
   "outputs": [],
   "source": []
  }
 ],
 "metadata": {
  "kernelspec": {
   "display_name": "tensor_flow",
   "language": "python",
   "name": "tensor_flow"
  },
  "language_info": {
   "codemirror_mode": {
    "name": "ipython",
    "version": 3
   },
   "file_extension": ".py",
   "mimetype": "text/x-python",
   "name": "python",
   "nbconvert_exporter": "python",
   "pygments_lexer": "ipython3",
   "version": "3.7.6"
  }
 },
 "nbformat": 4,
 "nbformat_minor": 2
}
